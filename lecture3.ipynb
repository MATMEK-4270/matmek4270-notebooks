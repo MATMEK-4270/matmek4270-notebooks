{
 "cells": [
  {
   "cell_type": "markdown",
   "id": "29fa05e5",
   "metadata": {},
   "source": [
    "# Implementation notes for lecture 3\n",
    "\n",
    "Vibration equation\n",
    "\n",
    "$$ \n",
    "\\begin{equation}\n",
    "u^{''} + \\omega^2 u = 0, u(0)=I, u'(0) = 0 \\label{eq:helmholtz}\n",
    "\\end{equation}\n",
    "$$\n",
    "\n",
    "Implementation\n",
    "\n",
    "$$\n",
    "\\begin{align*}\n",
    "  u^0 &= I\\\\\n",
    "  u^{1} &= u^0 - \\frac{1}{2}\\Delta t^2 \\omega^2 u^0 \\\\\n",
    "  u^{n+1} &= 2u^n - u^{n-1} - \\Delta t^2 \\omega^2 u^{n}, n \\in (1, 2, \\ldots, N_t-1)\n",
    "\\end{align*}\n",
    "$$"
   ]
  },
  {
   "cell_type": "code",
   "execution_count": null,
   "id": "8eae6f38-6334-4c4d-9137-dfe1821a8d26",
   "metadata": {},
   "outputs": [],
   "source": [
    "import numpy as np\n",
    "import matplotlib.pyplot as plt"
   ]
  },
  {
   "cell_type": "markdown",
   "id": "1dd45e57-add0-4e13-9979-2fd0aaedec7c",
   "metadata": {},
   "source": [
    "Create solver"
   ]
  },
  {
   "cell_type": "code",
   "execution_count": null,
   "id": "f8bdd760-51b1-4208-944c-22ccf23eeb5c",
   "metadata": {},
   "outputs": [],
   "source": [
    "def solver(dt, T, w=0.35, I=1):\n",
    "    \"\"\"\n",
    "    Solve Eq. (1)\n",
    "    \n",
    "    Parameters\n",
    "    ----------\n",
    "    dt : float\n",
    "        Time step\n",
    "    T : float\n",
    "        End time\n",
    "    I, w : float, optional\n",
    "        Model parameters\n",
    "    \n",
    "    Returns\n",
    "    -------\n",
    "    t : array_like\n",
    "        Discrete times (0, dt, 2*dt, ..., T)\n",
    "    u : array_like\n",
    "        The solution at discrete times t\n",
    "    \"\"\"\n",
    "    dt = float(dt)\n",
    "    Nt = int(round(T/dt))\n",
    "    u = np.zeros(Nt+1)\n",
    "    t = np.linspace(0, Nt*dt, Nt+1)\n",
    "    u[0] = I\n",
    "    u[1] = u[0] - 0.5*dt**2*w**2*u[0]\n",
    "    for n in range(1, Nt):\n",
    "        u[n+1] = 2*u[n] - u[n-1] - dt**2*w**2*u[n]\n",
    "    return t, u\n",
    "\n",
    "def u_exact(t, w=0.35, I=1):\n",
    "    \"\"\"Exact solution of Eq. (1)\n",
    "    \n",
    "    Parameters\n",
    "    ----------\n",
    "    t : array_like\n",
    "        Array of times to compute the solution\n",
    "    I, w : float, optional\n",
    "        Model parameters\n",
    "        \n",
    "    Returns\n",
    "    -------\n",
    "    ue : array_like\n",
    "        The solution at times t\n",
    "    \"\"\"\n",
    "    return I*np.cos(w*t)\n"
   ]
  },
  {
   "cell_type": "markdown",
   "id": "2c35b87a-07a3-48c1-82f2-7ec2f4e511a0",
   "metadata": {},
   "source": [
    "We now want to compute convergence rates. We will use the $\\ell^2$-norm computed as \n",
    "\n",
    "$$E_i = \\sqrt{\\Delta t_i\\sum_{n=0}^{N^{i}_t}(u^n-u_e(t_n))^2}$$\n",
    "\n",
    "for a given uniform mesh level $i$. For example, we can use $N^0_t=8, N_t^{1}=16, N^2_t = 32$, etc., such that $\\Delta t_{1} / \\Delta t_2 = 2$ and $\\Delta t_{n-1} / \\Delta t_{n} = 2$ for all $n$. Note that there are $N_t^{i}$ intervals on level $i$ and $N_t^{i}+1$ points.\n",
    "\n",
    "We assume that the error on the mesh with level $i$ can be written as \n",
    "\n",
    "$$E_i = C (\\Delta t_i)^r, $$\n",
    "\n",
    "where $C$ is a constant. This way, if we have the error on two levels, then we can compute\n",
    "\n",
    "$$ \\frac{E_{i-1}}{E_i} = \\frac{ (\\Delta t_{i-1})^r}{(\\Delta t_{i})^r} = \\left( \\frac{\\Delta t_{i-1}}{ \\Delta t_i} \\right)^r  $$\n",
    "\n",
    "and isolate $r$ by computing\n",
    "\n",
    "$$ r = \\frac{\\log {\\frac{E_{i-1}}{E_i}}}{\\log {\\frac{\\Delta t_{i-1}}{\\Delta t_i}}} $$\n",
    "\n",
    "So by computing the error on two different levels we can find the order of the convergence!\n",
    "\n",
    "Let's first write a function that computes the $\\ell^2$ error of the solver defined above"
   ]
  },
  {
   "cell_type": "code",
   "execution_count": null,
   "id": "edda152e-9b28-47ab-bbcf-058b6ea9cb75",
   "metadata": {},
   "outputs": [],
   "source": [
    "def l2_error(dt, T, w=0.35, I=0.3, sol=solver):\n",
    "    \"\"\"Compute the l2 error norm of result from `solver`\n",
    "    \n",
    "    Parameters\n",
    "    ----------\n",
    "    dt : float\n",
    "        Time step\n",
    "    T : float\n",
    "        End time\n",
    "    I, w : float, optional\n",
    "        Model parameters\n",
    "    sol : callable\n",
    "        The function that solves Eq. (1)\n",
    "        \n",
    "    Returns\n",
    "    -------\n",
    "    float\n",
    "        The l2 error norm \n",
    "    \"\"\"\n",
    "    t, u = sol(dt, T, w, I)\n",
    "    ue = u_exact(t, w, I)\n",
    "    return np.sqrt(dt*np.sum((ue-u)**2))"
   ]
  },
  {
   "cell_type": "markdown",
   "id": "2695f765",
   "metadata": {},
   "source": [
    "and then compute the convergence rates"
   ]
  },
  {
   "cell_type": "code",
   "execution_count": null,
   "id": "cdd277e7-9a6e-4325-a39a-054db8c505f3",
   "metadata": {},
   "outputs": [],
   "source": [
    "def convergence_rates(m, dt0=30, num_periods=8, w=0.35, I=0.3, sol=solver):\n",
    "    \"\"\"\n",
    "    Return m-1 empirical estimates of the convergence rate\n",
    "    based on m simulations, where the time step is halved\n",
    "    for each simulation.\n",
    "\n",
    "    Parameters\n",
    "    ----------\n",
    "    m : int\n",
    "        The number of mesh levels\n",
    "    dt0 : int, optional\n",
    "        Time steps per period on coarsest level\n",
    "    num_periods : int, optional\n",
    "        Size of domain is num_periods * 2pi / w\n",
    "    w, I : float, optional\n",
    "        Model parameters\n",
    "    sol : callable\n",
    "        The function that solves Eq. (1)\n",
    "    \n",
    "    Returns\n",
    "    -------\n",
    "    array_like\n",
    "        The m-1 convergence rates\n",
    "    array_like\n",
    "        The m errors of the m meshes\n",
    "    array_like\n",
    "        The m time steps of the m meshes\n",
    "        \n",
    "    \"\"\"\n",
    "    P = 2*np.pi/w\n",
    "    dt = P/dt0\n",
    "    T = P*num_periods\n",
    "    dt_values, E_values = [], []\n",
    "    for i in range(m):\n",
    "        E = l2_error(dt, T, w, I, sol=sol)\n",
    "        dt_values.append(dt)\n",
    "        E_values.append(E)\n",
    "        dt = dt/2\n",
    "    # Compute m-1 orders that should all be the same\n",
    "    r = [np.log(E_values[i-1]/E_values[i])/\n",
    "         np.log(dt_values[i-1]/dt_values[i])\n",
    "         for i in range(1, m, 1)]\n",
    "    return r, E_values, dt_values"
   ]
  },
  {
   "cell_type": "markdown",
   "id": "01637a0c",
   "metadata": {},
   "source": [
    "Test it"
   ]
  },
  {
   "cell_type": "code",
   "execution_count": null,
   "id": "0b95062c-9d71-4aee-b38d-0b2fb44913ee",
   "metadata": {},
   "outputs": [],
   "source": [
    "convergence_rates(4)"
   ]
  },
  {
   "cell_type": "markdown",
   "id": "f57153a6",
   "metadata": {},
   "source": [
    "These last two lists are the errors and timesteps af all the $m$ levels. We can plot the error as a function of timestep and show that the discretization scheme is second order."
   ]
  },
  {
   "cell_type": "code",
   "execution_count": null,
   "id": "f549e947-4c63-435a-9a5f-aed2d850982a",
   "metadata": {},
   "outputs": [],
   "source": [
    "r, E, dt = convergence_rates(5)\n",
    "plt.loglog(dt, E)\n",
    "plt.loglog(dt, dt)\n",
    "plt.loglog(dt, np.array(dt)**2)\n",
    "plt.title('Convergence of finite difference method')\n",
    "plt.legend(['Error', '$\\mathcal{O}(\\Delta t)$', '$\\mathcal{O}(\\Delta t^2)$'])\n",
    "from plotslopes import slope_marker\n",
    "slope_marker((dt[1], E[1]), (2,1))\n",
    "slope_marker((dt[1], dt[1]), (1,1))\n",
    "slope_marker((dt[1], dt[1]**2), (2,1))"
   ]
  },
  {
   "cell_type": "markdown",
   "id": "a40bf2d9",
   "metadata": {},
   "source": [
    "We see that the error has the same slope as $\\Delta t^2$.\n",
    "\n",
    "We can write a test for the order of accuracy:"
   ]
  },
  {
   "cell_type": "code",
   "execution_count": null,
   "id": "894f4d9f",
   "metadata": {},
   "outputs": [],
   "source": [
    "def test_order(m):\n",
    "    r, E, dt = convergence_rates(m)\n",
    "    assert np.allclose(np.array(r), 2, atol=1e-2)"
   ]
  },
  {
   "cell_type": "code",
   "execution_count": null,
   "id": "92d8a27f",
   "metadata": {},
   "outputs": [],
   "source": [
    "test_order(5)"
   ]
  },
  {
   "cell_type": "markdown",
   "id": "22b06177",
   "metadata": {},
   "source": [
    "# Method of manufactured solution\n",
    "\n",
    "Use a trivial solution to verify that the solver works.\n",
    "\n",
    "Assume the solution is\n",
    "\n",
    "$$ u(t) = t^2$$\n",
    "\n",
    "The solution satisfies the boundary conditions (important): $u(0)=0$ and $u'(0)=0$. However\n",
    "\n",
    "$$ u'' + \\omega^2 u = 2 + \\omega^2 t^2 \\ne 0 $$\n",
    "\n",
    "So we need to modify the source term of Eq. \\eqref{eq:helmholtz}. Since in this case $u=t^2$ we get\n",
    "\n",
    "$$\n",
    "\\begin{align*}\n",
    "u'' + {\\omega^2 u} &= 2 + \\omega^2 u \\\\\n",
    "u'' &= 2 \\\\\n",
    "\\end{align*}\n",
    "$$\n",
    "\n",
    "We also know that a second order accurate finite difference solution should be exact for a second order polynomial. Check:"
   ]
  },
  {
   "cell_type": "code",
   "execution_count": null,
   "id": "109d48cf",
   "metadata": {},
   "outputs": [],
   "source": [
    "dt = 0.1\n",
    "T = 10\n",
    "Nt = int(round(T/dt))\n",
    "t = np.linspace(0, Nt*dt, Nt+1)\n",
    "u = t**2\n",
    "uc = (u[2:] - 2*u[1:-1] + u[:-2])/dt**2\n",
    "assert np.allclose(uc, 2)"
   ]
  },
  {
   "cell_type": "markdown",
   "id": "b6fa0738",
   "metadata": {},
   "source": [
    "The numerical solution is exact!"
   ]
  },
  {
   "cell_type": "markdown",
   "id": "55237a6a",
   "metadata": {},
   "source": [
    "Assume now that the solution is\n",
    "\n",
    "$$ u(t) = t^4 $$\n",
    "\n",
    "Initial conditions still ok. Now the equation becomes\n",
    "\n",
    "$$ \n",
    "\\begin{align*}\n",
    "u'' + \\omega^2 u &= 12 t^2 + \\omega^2 t^4 \\\\\n",
    "u'' &= 12 t^2\n",
    "\\end{align*}\n",
    "$$\n",
    "\n",
    "Since the solution is a fourth order polynomial, the second order numerical solution will not be exact, but it will converge"
   ]
  },
  {
   "cell_type": "code",
   "execution_count": null,
   "id": "24d665d6",
   "metadata": {},
   "outputs": [],
   "source": [
    "dt = 0.1\n",
    "Nt = int(round(T/dt))\n",
    "t = np.linspace(0, Nt*dt, Nt+1)\n",
    "u = t**4\n",
    "uc = (u[2:] - 2*u[1:-1] + u[:-2])/dt**2\n",
    "print(uc-12*t[1:-1]**2)"
   ]
  },
  {
   "cell_type": "markdown",
   "id": "429ae3f4",
   "metadata": {},
   "source": [
    "Let's take a closer look at the numerical accuracy. The finite differece expression for $u''$ comes from two Taylor expansions around $t_n$\n",
    "\n",
    "$$\n",
    "\\begin{align}\n",
    "u^{n+1} &= u^n + \\Delta t u' + \\frac{\\Delta t^2}{2}u'' + \\frac{\\Delta t^3}{6}u''' + \\frac{\\Delta t^4}{24}u'''' + \\cdots \\label{eq:T0} \\\\\n",
    "u^{n-1} &= u^n - \\Delta t u' + \\frac{\\Delta t^2}{2}u'' - \\frac{\\Delta t^3}{6}u''' + \\frac{\\Delta t^4}{24}u'''' + \\cdots \\label{eq:T1}\n",
    "\\end{align}\n",
    "$$\n",
    "\n",
    "Adding now \\eqref{eq:T0} and \\eqref{eq:T1} we get\n",
    "\n",
    "$$\n",
    "u^{n+1} - 2u^n + u^{n-1} = \\Delta t^2 u'' + \\frac{\\Delta t^4}{12}u'''' + \\cdots\n",
    "$$\n",
    "\n",
    "such that \n",
    "\n",
    "$$\n",
    "u'' = \\frac{u^{n+1} - 2u^n + u^{n-1}}{\\Delta t^2} - \\frac{\\Delta t^2}{12}u'''' + \\cdots\n",
    "$$\n",
    "\n",
    "There is a second order error proportional to $u''''$. For $u=t^2$ we have that $u''''=0$, and as such no numerical error for our scheme. For $u=t^4$ the numerical error is $2 \\Delta t^2$\n",
    "\n",
    "We can put the numerical expression into our equation and get\n",
    "\n",
    "$$\n",
    "\\begin{align}\n",
    " u'' + \\omega^2 u &= 0 \\\\\n",
    " \\frac{u^{n+1} - 2u^n + u^{n-1}}{\\Delta t^2} - \\frac{\\Delta t^2}{12}u'''' + \\omega^2 u &= 0 \\\\\n",
    " \\frac{u^{n+1} - 2u^n + u^{n-1}}{\\Delta t^2} + \\omega^2 u &= \\frac{\\Delta t^2}{12}u'''' \n",
    "\\end{align}\n",
    "$$\n",
    "\n",
    "The residual is $\\Delta t^2 u'''' / 12$.\n",
    "\n",
    "Go back and check that the solution for $u=t^4$ correspond exactly to this residual:"
   ]
  },
  {
   "cell_type": "code",
   "execution_count": null,
   "id": "51456640",
   "metadata": {},
   "outputs": [],
   "source": [
    "assert np.allclose(uc-12*t[1:-1]**2, 2*dt**2)"
   ]
  },
  {
   "cell_type": "markdown",
   "id": "75f008f0",
   "metadata": {},
   "source": [
    "It is exact because the next error term will be proportional to the sixth derivative of $u$, which is zero for $u=t^4$."
   ]
  },
  {
   "cell_type": "markdown",
   "id": "c5b911a9",
   "metadata": {},
   "source": [
    "# Adjusted solver"
   ]
  },
  {
   "cell_type": "code",
   "execution_count": null,
   "id": "bae28db7",
   "metadata": {},
   "outputs": [],
   "source": [
    "def adj_solver(dt, T, w=0.35, I=1):\n",
    "    \"\"\"\n",
    "    Solve Eq. (1)\n",
    "    \n",
    "    Parameters\n",
    "    ----------\n",
    "    dt : float\n",
    "        Time step\n",
    "    T : float\n",
    "        End time\n",
    "    I, w : float, optional\n",
    "        Model parameters\n",
    "    \n",
    "    Returns\n",
    "    -------\n",
    "    t : array_like\n",
    "        Discrete times (0, dt, 2*dt, ..., T)\n",
    "    u : array_like\n",
    "        The solution at discrete times t\n",
    "    \"\"\"\n",
    "    dt = float(dt)\n",
    "    Nt = int(round(T/dt))\n",
    "    u = np.zeros(Nt+1)\n",
    "    t = np.linspace(0, Nt*dt, Nt+1)\n",
    "    u[0] = I\n",
    "    u[1] = u[0] - 0.5*dt**2*(w*(1-w**2*dt**2/24))**2*u[0]\n",
    "    for n in range(1, Nt):\n",
    "        u[n+1] = 2*u[n] - u[n-1] - dt**2*(w*(1-w**2*dt**2/24))**2*u[n]\n",
    "    return t, u\n"
   ]
  },
  {
   "cell_type": "code",
   "execution_count": null,
   "id": "ac51e492",
   "metadata": {},
   "outputs": [],
   "source": [
    "r, E, dt = convergence_rates(5, sol=solver)\n",
    "r2, E2, dt2 = convergence_rates(5, sol=adj_solver)\n",
    "plt.loglog(dt, E)\n",
    "plt.loglog(dt2, E2)\n",
    "plt.loglog(dt, dt)\n",
    "plt.loglog(dt, np.array(dt)**2)\n",
    "plt.title('Convergence of finite difference method')\n",
    "plt.legend(['Error', 'Error modified', '$\\mathcal{O}(\\Delta t)$', '$\\mathcal{O}(\\Delta t^2)$'])\n",
    "from plotslopes import slope_marker\n",
    "slope_marker((dt[1], E[1]), (2,1))\n",
    "slope_marker((dt2[1], E2[1]), (4,1))\n",
    "slope_marker((dt[1], dt[1]), (1,1))\n",
    "slope_marker((dt[1], dt[1]**2), (2,1))"
   ]
  }
 ],
 "metadata": {
  "kernelspec": {
   "display_name": "Python 3 (ipykernel)",
   "language": "python",
   "name": "python3"
  },
  "language_info": {
   "codemirror_mode": {
    "name": "ipython",
    "version": 3
   },
   "file_extension": ".py",
   "mimetype": "text/x-python",
   "name": "python",
   "nbconvert_exporter": "python",
   "pygments_lexer": "ipython3",
   "version": "3.11.4"
  },
  "toc": {
   "base_numbering": 1,
   "nav_menu": {},
   "number_sections": false,
   "sideBar": true,
   "skip_h1_title": false,
   "title_cell": "Table of Contents",
   "title_sidebar": "Contents",
   "toc_cell": false,
   "toc_position": {},
   "toc_section_display": true,
   "toc_window_display": false
  }
 },
 "nbformat": 4,
 "nbformat_minor": 5
}
