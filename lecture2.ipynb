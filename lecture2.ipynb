{
 "cells": [
  {
   "cell_type": "code",
   "execution_count": null,
   "id": "e115bf27-1e5f-4ec1-ab39-8ce9091729ae",
   "metadata": {},
   "outputs": [],
   "source": [
    "import numpy as np\n",
    "import sympy as sp\n",
    "import matplotlib.pyplot as plt"
   ]
  },
  {
   "cell_type": "code",
   "execution_count": null,
   "id": "cdd9d7fe-dd69-409c-a7a5-cc0a5071f4dd",
   "metadata": {},
   "outputs": [],
   "source": [
    "def solver(dt, theta, I=1, a=2, T=5):\n",
    "    \"\"\"Solve u'=-a*u, u(0)=I, for t in (0,T] with steps of dt.\"\"\"\n",
    "    dt = float(dt)            # avoid integer division\n",
    "    Nt = int(round(T/dt))     # no of time intervals\n",
    "    T = Nt*dt                 # adjust T to fit time step dt\n",
    "    u = np.zeros(Nt+1)           # array of u[n] values\n",
    "    t = np.linspace(0, T, Nt+1)  # time mesh\n",
    "    u[0] = I                  # assign initial condition\n",
    "    for n in range(0, Nt):    # n=0,1,...,Nt-1\n",
    "        u[n+1] = (1 - (1-theta)*a*dt)/(1 + theta*dt*a)*u[n]\n",
    "    return t, u\n",
    "\n",
    "def u_exact(t, I=1, a=2):\n",
    "    return I*np.exp(-a*t)"
   ]
  },
  {
   "cell_type": "code",
   "execution_count": null,
   "id": "b93da11e-79ee-4de3-8e5f-c7867b0972f2",
   "metadata": {},
   "outputs": [],
   "source": [
    "T = 5\n",
    "dt = 1\n",
    "theta = 0\n",
    "t = np.linspace(0, T, 1000)\n",
    "plt.plot(*solver(dt, theta, T=T), 'b+--')\n",
    "plt.plot(t, u_exact(t), 'k')"
   ]
  },
  {
   "cell_type": "code",
   "execution_count": null,
   "id": "a286e71c-5e17-4a2f-a525-c28d70bff735",
   "metadata": {},
   "outputs": [],
   "source": [
    "t, u = solver(0.1, theta, T=T)"
   ]
  },
  {
   "cell_type": "code",
   "execution_count": null,
   "id": "4ea45884-3e3f-402b-b511-865f30675132",
   "metadata": {},
   "outputs": [],
   "source": [
    "np.diff(u)"
   ]
  },
  {
   "cell_type": "code",
   "execution_count": null,
   "id": "75e64be1-0113-4a44-b245-f3de4dd8f658",
   "metadata": {},
   "outputs": [],
   "source": []
  }
 ],
 "metadata": {
  "kernelspec": {
   "display_name": "Python 3 (ipykernel)",
   "language": "python",
   "name": "python3"
  },
  "language_info": {
   "codemirror_mode": {
    "name": "ipython",
    "version": 3
   },
   "file_extension": ".py",
   "mimetype": "text/x-python",
   "name": "python",
   "nbconvert_exporter": "python",
   "pygments_lexer": "ipython3",
   "version": "3.7.4"
  }
 },
 "nbformat": 4,
 "nbformat_minor": 5
}
