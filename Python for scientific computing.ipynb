{
 "cells": [
  {
   "cell_type": "markdown",
   "metadata": {},
   "source": [
    "    \n",
    "# Python for scientific computing\n",
    "\n",
    "<a href=\"https://lb-aps-frontend.statista.com/chart/21017/most-popular-programming-languages/\" title=\"Infographic: Python Remains Most Popular Programming Language | Statista\"><img src=\"https://cdn.statcdn.com/Infographic/images/normal/21017.jpeg\" alt=\"Infographic: Python Remains Most Popular Programming Language | Statista\" width=\"50%\" height=\"auto\" style=\"width: 50%; height: auto !important; max-width:960px;-ms-interpolation-mode: bicubic;\"/></a> You will find more infographics at <a href=\"https://lb-aps-frontend.statista.com/chartoftheday/\">Statista</a>\n",
    "\n",
    "\n",
    "<img src=\"bilder/data-scientist-skills-statistics-966x807.jpeg\" width=500>\n",
    "\n",
    "<font size=\"4\">\n",
    "<ul>\n",
    "  <li>Python is today usually considered the most popular programming language in the world for scientific computing</li>\n",
    "  <li>With over 25 million users worldwide, Anaconda Python is the most poplar edition of Python for scientific computing</li>\n",
    "  \n",
    "</ul>    \n",
    "</font>\n",
    "    "
   ]
  },
  {
   "cell_type": "markdown",
   "metadata": {},
   "source": [
    "For example, I am using Anaconda Python to run this Jupyter notebook. With conda I can set up different environments for computing. This environment is named fortran, because I have a fortran compiler installed here."
   ]
  },
  {
   "cell_type": "markdown",
   "metadata": {},
   "source": [
    "<div class=\"alert alert-info\">\n",
    "    <h4>Some facts</h4>\n",
    "    <ul>\n",
    "        <li>Python is written in C!</li>\n",
    "    <li>Python became popular for scientific computing when scientists discovered that it was very easy to wrap existing and fast Fortran libraries (like BLAS, LAPACK etc.), and call them from Python </li>\n",
    "        <li>Prof Hans Petter Langtangen was one of the first scientist that helped making Python popular around year 2000</li>\n",
    "    </ul>\n",
    "</div>"
   ]
  },
  {
   "cell_type": "markdown",
   "metadata": {},
   "source": [
    "# How about computational speed?\n",
    "\n",
    "Python in itself is not very fast, but there are excellent and easy to use tools for optimizations. Lets consider the dot-product between two vectors $\\mathbf{u}$ and $\\mathbf{v}$\n",
    "\n",
    "$$\n",
    "\\begin{align*}\n",
    "\\mathbf{u} &= (u_0, u_1, \\ldots, u_{N-1}) \\\\\n",
    "\\mathbf{v} &= (v_0, v_1, \\ldots, v_{N-1}) \\\\\n",
    "c &= \\mathbf{u} \\cdot \\mathbf{v} = \\sum_{i=0}^{N-1}u_i v_i\n",
    "\\end{align*}\n",
    "$$\n",
    "\n",
    "We use the [Numpy](https://numpy.org) module for scientific computing with arrays."
   ]
  },
  {
   "cell_type": "code",
   "execution_count": 1,
   "metadata": {},
   "outputs": [],
   "source": [
    "import numpy as np\n",
    "N = 1000000\n",
    "u = np.random.random(N)\n",
    "v = np.random.random(N)"
   ]
  },
  {
   "cell_type": "markdown",
   "metadata": {},
   "source": [
    "First a naive Python implementation of the dot product"
   ]
  },
  {
   "cell_type": "code",
   "execution_count": 2,
   "metadata": {},
   "outputs": [],
   "source": [
    "def dot(a, b):\n",
    "    c = 0.0\n",
    "    N = a.shape[0]\n",
    "    for i in range(N):\n",
    "        c += a[i]*b[i]\n",
    "    return c"
   ]
  },
  {
   "cell_type": "code",
   "execution_count": 3,
   "metadata": {},
   "outputs": [
    {
     "name": "stdout",
     "output_type": "stream",
     "text": [
      "427 ms ± 16.6 ms per loop (mean ± std. dev. of 7 runs, 1 loop each)\n"
     ]
    }
   ],
   "source": [
    "%timeit c = dot(u, v)"
   ]
  },
  {
   "cell_type": "markdown",
   "metadata": {},
   "source": [
    "How fast is this? Compared with fortran or C? It's actually pretty slow:-(\n",
    "\n",
    "However, there are numerous alternative options. We can compute it using a vectorized elementwise multiplication and sum:"
   ]
  },
  {
   "cell_type": "code",
   "execution_count": 4,
   "metadata": {},
   "outputs": [
    {
     "name": "stdout",
     "output_type": "stream",
     "text": [
      "1.76 ms ± 187 µs per loop (mean ± std. dev. of 7 runs, 100 loops each)\n"
     ]
    }
   ],
   "source": [
    "%timeit c = np.sum(u*v)"
   ]
  },
  {
   "cell_type": "markdown",
   "metadata": {},
   "source": [
    "So vectorization is much much faster than for-loops in Python.\n",
    "\n",
    "[Numpy](https://numpy.org) also has its own [dot](https://numpy.org/doc/stable/reference/generated/numpy.dot.html) function:"
   ]
  },
  {
   "cell_type": "code",
   "execution_count": 5,
   "metadata": {},
   "outputs": [
    {
     "name": "stdout",
     "output_type": "stream",
     "text": [
      "349 µs ± 110 µs per loop (mean ± std. dev. of 7 runs, 1000 loops each)\n"
     ]
    }
   ],
   "source": [
    "%timeit c = np.dot(u, v)"
   ]
  },
  {
   "cell_type": "markdown",
   "metadata": {},
   "source": [
    "Wow, that's fast! It's actually faster than I can do it in fortran, as you will see soon. The reason is that it is using BLAS under the hood. We can actually use BLAS directly, but it should not be faster"
   ]
  },
  {
   "cell_type": "code",
   "execution_count": 6,
   "metadata": {},
   "outputs": [],
   "source": [
    "from scipy import linalg\n",
    "ddot = linalg.get_blas_funcs('dot', (u, v))"
   ]
  },
  {
   "cell_type": "code",
   "execution_count": 7,
   "metadata": {},
   "outputs": [
    {
     "name": "stdout",
     "output_type": "stream",
     "text": [
      "273 µs ± 78.9 µs per loop (mean ± std. dev. of 7 runs, 1000 loops each)\n"
     ]
    }
   ],
   "source": [
    "%timeit c = ddot(u, v)"
   ]
  },
  {
   "cell_type": "markdown",
   "metadata": {},
   "source": [
    "Think Fortran can do better? Lets try using Fortran's [dot_fortran](https://gcc.gnu.org/onlinedocs/gcc-4.7.4/gfortran/DOT_005fPRODUCT.html) and also show how to call it from Python"
   ]
  },
  {
   "cell_type": "code",
   "execution_count": 8,
   "metadata": {},
   "outputs": [
    {
     "name": "stdout",
     "output_type": "stream",
     "text": [
      "Writing dot_fortran.f90\n"
     ]
    }
   ],
   "source": [
    "%%file dot_fortran.f90\n",
    "      function dot_fortran(a,b,N) result(c)\n",
    "      integer :: N\n",
    "      real(8), dimension(N) :: a, b\n",
    "      real(8) :: c\n",
    "      c = dot_product(a, b)\n",
    "      end function dot_fortran"
   ]
  },
  {
   "cell_type": "code",
   "execution_count": 9,
   "metadata": {},
   "outputs": [
    {
     "name": "stdout",
     "output_type": "stream",
     "text": [
      "      function dot_fortran(a,b,N) result(c)\n",
      "      integer :: N\n",
      "      real(8), dimension(N) :: a, b\n",
      "      real(8) :: c\n",
      "      c = dot_product(a, b)\n",
      "      end function dot_fortran\n"
     ]
    }
   ],
   "source": [
    "!cat dot_fortran.f90"
   ]
  },
  {
   "cell_type": "markdown",
   "metadata": {},
   "source": [
    "We can compile this Fortran function and make it directly callable from Python. This is how many Python functions are implemented for speed."
   ]
  },
  {
   "cell_type": "code",
   "execution_count": 10,
   "metadata": {},
   "outputs": [],
   "source": [
    "%%capture\n",
    "!python -m numpy.f2py -c dot_fortran.f90 -m dotf"
   ]
  },
  {
   "cell_type": "code",
   "execution_count": 11,
   "metadata": {},
   "outputs": [
    {
     "ename": "ModuleNotFoundError",
     "evalue": "No module named 'dotf'",
     "output_type": "error",
     "traceback": [
      "\u001b[0;31m---------------------------------------------------------------------------\u001b[0m",
      "\u001b[0;31mModuleNotFoundError\u001b[0m                       Traceback (most recent call last)",
      "\u001b[0;32m<ipython-input-11-74ce55c3585d>\u001b[0m in \u001b[0;36m<module>\u001b[0;34m\u001b[0m\n\u001b[0;32m----> 1\u001b[0;31m \u001b[0;32mimport\u001b[0m \u001b[0mdotf\u001b[0m\u001b[0;34m\u001b[0m\u001b[0;34m\u001b[0m\u001b[0m\n\u001b[0m\u001b[1;32m      2\u001b[0m \u001b[0mget_ipython\u001b[0m\u001b[0;34m(\u001b[0m\u001b[0;34m)\u001b[0m\u001b[0;34m.\u001b[0m\u001b[0mrun_line_magic\u001b[0m\u001b[0;34m(\u001b[0m\u001b[0;34m'timeit'\u001b[0m\u001b[0;34m,\u001b[0m \u001b[0;34m'c = dotf.dot_fortran(u, v)'\u001b[0m\u001b[0;34m)\u001b[0m\u001b[0;34m\u001b[0m\u001b[0;34m\u001b[0m\u001b[0m\n",
      "\u001b[0;31mModuleNotFoundError\u001b[0m: No module named 'dotf'"
     ]
    }
   ],
   "source": [
    "import dotf\n",
    "%timeit c = dotf.dot_fortran(u, v)"
   ]
  },
  {
   "cell_type": "markdown",
   "metadata": {},
   "source": [
    "Ok, I can probably do better"
   ]
  },
  {
   "cell_type": "code",
   "execution_count": null,
   "metadata": {},
   "outputs": [],
   "source": [
    "%%file dot_fortran2.f90\n",
    "      function dot_fortran(a,b,N) result(c)\n",
    "      integer :: N\n",
    "      real(8), dimension(N) :: a,b\n",
    "      real(8) :: c\n",
    "Cf2py intent(in) N\n",
    "Cf2py intent(in) a\n",
    "Cf2py intent(in) b\n",
    "Cf2py intent(out) c\n",
    "      c = dot_product(a,b)\n",
    "      end function dot_fortran"
   ]
  },
  {
   "cell_type": "code",
   "execution_count": null,
   "metadata": {},
   "outputs": [],
   "source": [
    "%%capture\n",
    "!python -m numpy.f2py -c dot_fortran2.f90 -m dotf2 --f90flags='-Ofast'"
   ]
  },
  {
   "cell_type": "code",
   "execution_count": null,
   "metadata": {},
   "outputs": [],
   "source": [
    "import dotf2\n",
    "%timeit c = dotf2.dot_fortran(u, v)"
   ]
  },
  {
   "cell_type": "markdown",
   "metadata": {},
   "source": [
    "Still not close to Numpy and BLAS. Lets try pure Fortran. Create a pure Fortran program, compile and run it from bash. "
   ]
  },
  {
   "cell_type": "code",
   "execution_count": null,
   "metadata": {},
   "outputs": [],
   "source": [
    "%%file test_dot_fortran.f90\n",
    "program test_dot\n",
    "    real(8) :: t0,t1,c\n",
    "    real(8), allocatable :: a(:), b(:)\n",
    "    integer :: n\n",
    "    character(len=12) :: arg\n",
    "    call get_command_argument(1, arg)\n",
    "    read(arg,*) n\n",
    "    allocate (a(1:n))\n",
    "    allocate (b(1:n))\n",
    "    call random_number(a)\n",
    "    call random_number(b)\n",
    "    call cpu_time(t0)\n",
    "    c = dot_product(a, b)\n",
    "    call cpu_time(t1)\n",
    "    write(*,*) \"time \",(t1-t0)*1000,\" milliseconds \",c\n",
    "end program test_dot"
   ]
  },
  {
   "cell_type": "code",
   "execution_count": null,
   "metadata": {},
   "outputs": [],
   "source": [
    "!gfortran -Ofast -march=native test_dot_fortran.f90 -o test_dot_fortran\n",
    "!./test_dot_fortran 10000000"
   ]
  },
  {
   "cell_type": "markdown",
   "metadata": {},
   "source": [
    "Try one more time, with explicit do-loop:"
   ]
  },
  {
   "cell_type": "code",
   "execution_count": null,
   "metadata": {},
   "outputs": [],
   "source": [
    "%%file dot_fortran3.f90\n",
    "      function dot_fortran(a,b,N) result(c)\n",
    "      integer :: N\n",
    "      real(8), dimension(n) :: a,b\n",
    "      real(8) :: c\n",
    "Cf2py intent(in) N\n",
    "Cf2py intent(in) a\n",
    "Cf2py intent(in) b\n",
    "Cf2py intent(out) c\n",
    "      c = 0.0\n",
    "      do i = 1,N\n",
    "        c = c + a(i)*b(i)\n",
    "      end do\n",
    "      end function dot_fortran"
   ]
  },
  {
   "cell_type": "code",
   "execution_count": null,
   "metadata": {},
   "outputs": [],
   "source": [
    "%%capture\n",
    "!python -m numpy.f2py -c dot_fortran3.f90 -m dotf3 --f90flags='-Ofast -march=native' -DF2PY_REPORT_ON_ARRAY_COPY=1"
   ]
  },
  {
   "cell_type": "code",
   "execution_count": null,
   "metadata": {},
   "outputs": [],
   "source": [
    "import dotf3\n",
    "%timeit c = dotf3.dot_fortran(u, v)"
   ]
  },
  {
   "attachments": {
    "cython.jpeg": {
     "image/jpeg": "[encoded data removed]"
    },
    "numba.png": {
     "image/png": "[encoded data removed]"
    }
   },
   "cell_type": "markdown",
   "metadata": {},
   "source": [
    "Ok. I'm not able to make Fortran faster. Perhaps I'm not the best Fortran programmer, or I simply do not have the best fortran compiler (gfortran on MAC OSX). \n",
    "\n",
    "<div class=\"alert alert-info\">\n",
    "The point is that it is trivially simple to wrap a Fortran function and call it from Python!\n",
    "</div>\n",
    "\n",
    "What else is there?\n",
    "\n",
    "![numba.png](attachment:numba.png)\n",
    "![cython.jpeg](attachment:cython.jpeg)\n"
   ]
  },
  {
   "cell_type": "code",
   "execution_count": null,
   "metadata": {},
   "outputs": [],
   "source": []
  }
 ],
 "metadata": {
  "kernelspec": {
   "display_name": "Python 3 (ipykernel)",
   "language": "python",
   "name": "python3"
  },
  "language_info": {
   "codemirror_mode": {
    "name": "ipython",
    "version": 3
   },
   "file_extension": ".py",
   "mimetype": "text/x-python",
   "name": "python",
   "nbconvert_exporter": "python",
   "pygments_lexer": "ipython3",
   "version": "3.7.4"
  },
  "toc": {
   "base_numbering": 1,
   "nav_menu": {},
   "number_sections": false,
   "sideBar": true,
   "skip_h1_title": false,
   "title_cell": "Table of Contents",
   "title_sidebar": "Contents",
   "toc_cell": false,
   "toc_position": {},
   "toc_section_display": true,
   "toc_window_display": false
  }
 },
 "nbformat": 4,
 "nbformat_minor": 4
}
