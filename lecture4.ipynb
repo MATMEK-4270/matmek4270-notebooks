{
 "cells": [
  {
   "cell_type": "markdown",
   "id": "6452b460-d4bc-4c59-bae0-5481118efb2d",
   "metadata": {},
   "source": [
    "# The Finite difference method\n",
    "\n",
    "The finite difference method divides the line into a mesh and solves equations only for specific locations (nodes) in the mesh. A mesh is created with $t = (0, \\Delta t, 2\\Delta t, \\ldots, N \\Delta t)$, where $t_n=n \\Delta t$ and $T=t_N = N \\Delta t$.\n",
    "\n",
    "![tikz](line.png)\n",
    "\n",
    "Up until now we have solved equations by using a recursive approach. This is very easy to implement intuitively using for-loops. However, the most common and general use of finite difference methods is through explicit assembling of matrices.\n",
    "\n",
    "Consider the decay model first\n",
    "\n",
    "$$ u' + au = 0, u(0)=I, t \\in [0, T] $$\n",
    "\n",
    "We create a solution vector $\\boldsymbol{u} = (u^0, u^1, \\ldots, u^{N_t})$\n",
    "\n",
    "To solve recursively, we start by setting $u^0=I$, and then recursively solve\n",
    "\n",
    "$$ \\frac{u^{n+1}-u^n}{\\Delta t} = -a (\\theta u^{n+1} + (1-\\theta) u^n) $$\n",
    "\n",
    "Rearranged\n",
    "\n",
    "$$ u^{n+1} = \\frac{1 - (1-\\theta) a \\Delta t}{1 + \\theta a \\Delta t} u^n $$\n",
    "\n",
    "Recursive algorithm:\n",
    "\n",
    "* $u^0 = I$\n",
    "* for  n = 0, 1, ... , N-1\n",
    "    * Compute $u^{n+1} = \\frac{1 - (1-\\theta) a \\Delta t}{1 + \\theta a \\Delta t} u^n$\n"
   ]
  },
  {
   "cell_type": "code",
   "execution_count": 1,
   "id": "6f586dc0-ba6a-4aa6-9f4a-2464a35ce319",
   "metadata": {},
   "outputs": [
    {
     "data": {
      "image/png": "[encoded data removed]",
      "text/plain": [
       "<Figure size 640x480 with 1 Axes>"
      ]
     },
     "metadata": {},
     "output_type": "display_data"
    }
   ],
   "source": [
    "import numpy as np\n",
    "import matplotlib.pyplot as plt\n",
    "np.set_printoptions(precision=3)\n",
    "N = 8\n",
    "a = 2\n",
    "I = 1\n",
    "theta = 0.5\n",
    "dt = 0.5\n",
    "T = N*dt\n",
    "t = np.linspace(0, N*dt, N+1)\n",
    "u = np.zeros(N+1)\n",
    "C = (1 - (1-theta) * a * dt)/(1 + theta * a * dt)\n",
    "u[0] = I\n",
    "for n in range(N):\n",
    "    u[n+1] = C * u[n]\n",
    "te = np.linspace(0, N*dt, 1001)\n",
    "plt.plot(t, u, 'b+', te, np.exp(-a*te), 'k')\n",
    "plt.legend(['Numerical', 'Exact'])\n",
    "plt.text(-0.1, u[0], '$u^0$')\n",
    "plt.text(0.3, u[1], '$u^1$')\n",
    "plt.text(0.82, u[2], '$u^2$');"
   ]
  },
  {
   "cell_type": "markdown",
   "id": "bd109dfb-a4eb-4ff7-895b-b78598fc9213",
   "metadata": {},
   "source": [
    "# Matrix approach\n",
    "\n",
    "The recursive approach never assembles the $N+1$ linear equations, it just steps forward, solving $u^{n+1}$ from $u^n$. The matrix approach is simply an approach where all the linear equations are set up first as a matrix problem. The matrix formulation for the generic decay problem is\n",
    "\n",
    "$$\n",
    "A \\boldsymbol{u} = \\boldsymbol{b}\n",
    "$$\n",
    "\n",
    "where $\\boldsymbol{u} \\in \\mathbb{R}^{N+1}$, $\\boldsymbol{b} \\in \\mathbb{R}^{N+1}$ and  the matrix $A \\in \\mathbb{R}^{(N+1) \\times (N+1)}$ is \n",
    "\n",
    "$$\n",
    "A = \\begin{bmatrix} \n",
    " 1  & 0 & 0 & 0 & 0 & 0 & 0 & 0 & 0  \\\\\n",
    " -C  & 1 & 0 & 0 & 0 & 0 & 0 & 0 & 0  \\\\\n",
    " 0  & -C & 1 & 0 & 0 & 0 & 0 & 0 & 0  \\\\\n",
    " 0  & 0 & -C & 1 & 0 & 0 & 0 & 0 & 0  \\\\\n",
    " 0  & 0 & 0 & -C & 1 & 0 & 0 & 0 & 0  \\\\\n",
    " 0  & 0 & 0 & 0 & -C & 1 & 0 & 0 & 0  \\\\\n",
    " 0  & 0 & 0 & 0 & 0 & -C & 1 & 0 & 0  \\\\\n",
    " 0  & 0 & 0 & 0 & 0 & 0 & -C & 1 & 0  \\\\\n",
    " 0  & 0 & 0 & 0 & 0 & 0 & 0 & -C & 1  \n",
    "\\end{bmatrix}\n",
    "$$\n",
    "\n",
    "We have a linear algebra problem\n",
    "\n",
    "$$\n",
    "A \\boldsymbol{u} = \\boldsymbol{b}\n",
    "$$\n",
    "\n",
    "which is trivially solved by Gaussian elimination or simply a forward elimination. \n",
    "\n",
    "$$\n",
    "\\boldsymbol{u} = A^{-1} \\boldsymbol{b}\n",
    "$$\n",
    "\n",
    "The system to solve looks like\n",
    "\n",
    "$$\n",
    " \\underbrace{\n",
    " \\begin{bmatrix} \n",
    " 1  & 0 & 0 & 0 & 0 & 0 & 0 & 0 & 0  \\\\\n",
    " -C  & 1 & 0 & 0 & 0 & 0 & 0 & 0 & 0  \\\\\n",
    " 0  & -C & 1 & 0 & 0 & 0 & 0 & 0 & 0  \\\\\n",
    " 0  & 0 & -C & 1 & 0 & 0 & 0 & 0 & 0  \\\\\n",
    " 0  & 0 & 0 & -C & 1 & 0 & 0 & 0 & 0  \\\\\n",
    " 0  & 0 & 0 & 0 & -C & 1 & 0 & 0 & 0  \\\\\n",
    " 0  & 0 & 0 & 0 & 0 & -C & 1 & 0 & 0  \\\\\n",
    " 0  & 0 & 0 & 0 & 0 & 0 & -C & 1 & 0  \\\\\n",
    " 0  & 0 & 0 & 0 & 0 & 0 & 0 & -C & 1  \n",
    "\\end{bmatrix}}_{A}\n",
    "\\underbrace{\\begin{bmatrix}\n",
    "u^0 \\\\\n",
    "u^1 \\\\\n",
    "u^2 \\\\\n",
    "u^3 \\\\\n",
    "u^4 \\\\\n",
    "u^5 \\\\\n",
    "u^6 \\\\\n",
    "u^7 \\\\\n",
    "u^8 \\\\\n",
    "u^9\n",
    "\\end{bmatrix}}_{\\boldsymbol{u}} = \n",
    "\\underbrace{\\begin{bmatrix}\n",
    "I \\\\\n",
    "0 \\\\\n",
    "0 \\\\\n",
    "0 \\\\\n",
    "0 \\\\\n",
    "0 \\\\\n",
    "0 \\\\\n",
    "0 \\\\\n",
    "0 \n",
    "\\end{bmatrix}}_{\\boldsymbol{b}}\n",
    "$$\n",
    "\n",
    "Notice the boundary condition in row 0. The remaining $N$ rows (equations) use the same stencil.\n",
    "\n",
    "We can assemble the matrix $A$ using the [scipy.sparse](https://docs.scipy.org/doc/scipy/reference/sparse.html) package"
   ]
  },
  {
   "cell_type": "code",
   "execution_count": 2,
   "id": "2dba8aca-00b8-4771-bc96-c000a241140a",
   "metadata": {},
   "outputs": [
    {
     "data": {
      "text/plain": [
       "array([[ 1.   ,  0.   ,  0.   ,  0.   ,  0.   ,  0.   ,  0.   ,  0.   ,\n",
       "         0.   ],\n",
       "       [-0.333,  1.   ,  0.   ,  0.   ,  0.   ,  0.   ,  0.   ,  0.   ,\n",
       "         0.   ],\n",
       "       [ 0.   , -0.333,  1.   ,  0.   ,  0.   ,  0.   ,  0.   ,  0.   ,\n",
       "         0.   ],\n",
       "       [ 0.   ,  0.   , -0.333,  1.   ,  0.   ,  0.   ,  0.   ,  0.   ,\n",
       "         0.   ],\n",
       "       [ 0.   ,  0.   ,  0.   , -0.333,  1.   ,  0.   ,  0.   ,  0.   ,\n",
       "         0.   ],\n",
       "       [ 0.   ,  0.   ,  0.   ,  0.   , -0.333,  1.   ,  0.   ,  0.   ,\n",
       "         0.   ],\n",
       "       [ 0.   ,  0.   ,  0.   ,  0.   ,  0.   , -0.333,  1.   ,  0.   ,\n",
       "         0.   ],\n",
       "       [ 0.   ,  0.   ,  0.   ,  0.   ,  0.   ,  0.   , -0.333,  1.   ,\n",
       "         0.   ],\n",
       "       [ 0.   ,  0.   ,  0.   ,  0.   ,  0.   ,  0.   ,  0.   , -0.333,\n",
       "         1.   ]])"
      ]
     },
     "execution_count": 2,
     "metadata": {},
     "output_type": "execute_result"
    }
   ],
   "source": [
    "from scipy import sparse\n",
    "A = sparse.diags([np.full(N, -C), np.ones(N+1)], np.array([-1, 0]), (N+1, N+1), 'csr')\n",
    "A.toarray()"
   ]
  },
  {
   "cell_type": "code",
   "execution_count": 3,
   "id": "50e2eb2a-6f92-4c51-baec-ba25a1126ce5",
   "metadata": {},
   "outputs": [
    {
     "data": {
      "text/plain": [
       "array([1.000e+00, 3.333e-01, 1.111e-01, 3.704e-02, 1.235e-02, 4.115e-03,\n",
       "       1.372e-03, 4.572e-04, 1.524e-04])"
      ]
     },
     "execution_count": 3,
     "metadata": {},
     "output_type": "execute_result"
    }
   ],
   "source": [
    "b = np.zeros(N+1)\n",
    "b[0] = I\n",
    "un = sparse.linalg.spsolve_triangular(A, b, lower=True, unit_diagonal=True)\n",
    "un"
   ]
  },
  {
   "cell_type": "markdown",
   "id": "ab466dfc-3f59-42ce-84cc-a67a8b89d8d3",
   "metadata": {},
   "source": [
    "The solution is the same as before:"
   ]
  },
  {
   "cell_type": "code",
   "execution_count": 4,
   "id": "fffcb939-bbbd-44b5-a4bc-1c55bca1af03",
   "metadata": {},
   "outputs": [
    {
     "data": {
      "text/plain": [
       "array([0., 0., 0., 0., 0., 0., 0., 0., 0.])"
      ]
     },
     "execution_count": 4,
     "metadata": {},
     "output_type": "execute_result"
    }
   ],
   "source": [
    "un-u"
   ]
  },
  {
   "cell_type": "markdown",
   "id": "53f53a83-17d5-4454-8dbd-9c5c63360419",
   "metadata": {},
   "source": [
    "## The vibration problem\n",
    "\n",
    "$$\n",
    "u'' + \\omega^2 u = 0, \\quad u(0) = I, u'(0) = 0, t \\in [0, T]\n",
    "$$\n",
    "\n",
    "is solved using a central difference for $n=1, 2, \\ldots, N-1$\n",
    "\n",
    "$$\n",
    "\\frac{u^{n+1}-2u^n+u^{n-1}}{\\Delta t^2} + \\omega^2 u^n = 0\n",
    "$$\n",
    "\n",
    "The recursive algorithm is\n",
    "\n",
    "* $u^0 = I$\n",
    "* $u^1 = u^0(1 - 0.5 \\omega^2 \\Delta t^2)$\n",
    "* for n = 1, 2, ... , N-1\n",
    "    * $u^{n+1} = (2-\\omega^2 \\Delta t^2 ) u^n - u^{n-1}$\n",
    " \n",
    "The algebraic problem \n",
    "\n",
    "$$ A \\boldsymbol{u} = \\boldsymbol{b} $$\n",
    "\n",
    "is now, using $C = 2-\\omega^2 \\Delta t^2$,\n",
    "\n",
    "$$\n",
    "\\begin{bmatrix} \n",
    " 1  & 0 & 0 & 0 & 0 & 0 & 0 & 0 & 0  \\\\\n",
    " -{C}/{2} & 1 & 0 & 0 & 0 & 0 & 0 & 0 & 0  \\\\\n",
    " 1  & -C & 1 & 0 & 0 & 0 & 0 & 0 & 0  \\\\\n",
    " 0  & 1 & -C & 1 & 0 & 0 & 0 & 0 & 0  \\\\\n",
    " 0  & 0 & 1 & -C & 1 & 0 & 0 & 0 & 0  \\\\\n",
    " 0  & 0 & 0 & 1 & -C & 1 & 0 & 0 & 0  \\\\\n",
    " 0  & 0 & 0 & 0 & 1 & -C & 1 & 0 & 0  \\\\\n",
    " 0  & 0 & 0 & 0 & 0 & 1 & -C & 1 & 0  \\\\\n",
    " 0  & 0 & 0 & 0 & 0 & 0 & 1 & -C & 1  \n",
    "\\end{bmatrix}\n",
    "\\begin{bmatrix}\n",
    "u^0 \\\\\n",
    "u^1 \\\\\n",
    "u^2 \\\\\n",
    "u^3 \\\\\n",
    "u^4 \\\\\n",
    "u^5 \\\\\n",
    "u^6 \\\\\n",
    "u^7 \\\\\n",
    "u^8 \\\\\n",
    "u^9\n",
    "\\end{bmatrix}\n",
    "=\n",
    "\\begin{bmatrix}\n",
    "I \\\\\n",
    "0 \\\\\n",
    "0 \\\\\n",
    "0 \\\\\n",
    "0 \\\\\n",
    "0 \\\\\n",
    "0 \\\\\n",
    "0 \\\\\n",
    "0\n",
    "\\end{bmatrix}\n",
    "$$\n",
    "\n",
    "<div class=\"alert alert-block alert-info\">\n",
    "Notice that the matrix is lower triangular. Matrices that are lower or upper triangular are especially quick to solve for using forward or backward substitution.\n",
    "</div>\n",
    "\n",
    "<div class=\"alert alert-block alert-success\">\n",
    "The matrices are here lower triangular because the 2 boundary conditions are specified at one end of the domain. The scheme is explicit, the unknown $u^{n+1}$ is not used in computing the source term.\n",
    "</div>"
   ]
  },
  {
   "cell_type": "markdown",
   "id": "5bfc2996-f046-471b-acaa-1d394b17ff9b",
   "metadata": {},
   "source": [
    "# Finite differentiation matrices\n",
    "\n",
    "We will now use Taylor expansions more orderly to obtain differentiation matrices. To this end we use the following expansions, three which are forward, and one backward:\n",
    "\n",
    "$$\n",
    "\\begin{align}\n",
    "(-1)\\quad u^{n-1} &= u^n - h u' + \\frac{h^2}{2}u'' - \\frac{h^3}{6}u''' + \\frac{h^4}{24}u'''' - \\cdots \\\\\n",
    "(1)\\quad u^{n+1} &= u^n + h u' + \\frac{h^2}{2}u'' + \\frac{h^3}{6}u''' + \\frac{h^4}{24}u'''' + \\cdots \\\\\n",
    "(2)\\quad u^{n+2} &= u^n + 2h u' + \\frac{2 h^2}{1}u'' + \\frac{4 h^3}{3}u''' + \\frac{2 h^4}{3}u'''' + \\cdots \\\\\n",
    "(3)\\quad u^{n+3} &= u^n + 3h u' + \\frac{9 h^2}{2}u'' + \\frac{9 h^3}{2}u''' + \\frac{27 h^4}{8}u'''' + \\cdots \\\\\n",
    "\\end{align}\n",
    "$$\n",
    "\n",
    "Remember, $u^{n+a} = u(t_{n+a})$ and $t_{n+a} = (n+a)h$ and we use $h=\\Delta t$ for simplicity.\n",
    "\n",
    "Consider now the central second order finite difference operator $u''(t_n)$. We can obtain an expression for this by adding equations (-1) and (1)\n",
    "\n",
    "$$\n",
    "\\begin{equation}\n",
    "u''(t_n) = \\frac{u^{n+1}-2u^n + u^{n-1}}{h^2}  + \\frac{h^2}{12}u'''' + \n",
    "\\end{equation}\n",
    "$$\n",
    "\n",
    "The operation can be set up for all $n$ as a matrix-vector product\n",
    "\n",
    "$$\n",
    "\\boldsymbol{u}^{(2)} = D^{(2)} \\boldsymbol{u}\n",
    "$$\n",
    "\n",
    "where we use $\\boldsymbol{u}^{(2)}=\\{u''(t_n)\\}_{n=0}^{N_t}$ to represent the finite difference approximation to the second derivative at the $N_t+1$ mesh points. The finite difference differentiation matrix is\n",
    "\n",
    "$$\n",
    "D^{(2)} = \\frac{1}{h^2} \\begin{bmatrix}\n",
    "? & ? & ? & ?  & ? & ? & ? & ?  \\\\\n",
    "1 & -2 & 1 & 0 & 0 & 0 & 0 & \\cdots \\\\\n",
    "0 & 1 & -2 & 1 & 0 & 0 & 0 & \\cdots \\\\\n",
    "\\vdots & & & \\ddots &  & & &\\cdots \\\\\n",
    "\\vdots & 0 & 0 & 0 &  1& -2& 1& 0 \\\\\n",
    "\\vdots & 0 & 0& 0& 0& 1& -2& 1 \\\\\n",
    "? & ? & ? & ?  & ? & ? & ? & ? \\\\\n",
    "\\end{bmatrix}\n",
    "$$"
   ]
  },
  {
   "cell_type": "markdown",
   "id": "3b44ddfc-d40e-4269-b7c4-15bf72221a19",
   "metadata": {},
   "source": [
    "where the first and last rows are open because the stencil in row 0 requires $u^{-1}$ and for the row $N$ it requires $u^{N+1}$. For these two rows we need to use a different stencil.\n",
    "\n",
    "A first order accurate expression for $u''$ can be obtained by 2 times Eq. (1) for Eq. (2), i.e., $(2)-2(1)$:\n",
    "\n",
    "$$\n",
    "(2)-2(1): \\, u^{n+2} - 2u^{n+1} = -u^n + \\frac{h^2}{1}u'' + h^3 u''' + \\frac{7 h^4}{12}u'''' +\n",
    "$$\n",
    "\n",
    "Isolate $u''$ to obtain\n",
    "\n",
    "$$\n",
    "u'' = \\frac{u^{n+2}-2u^{n+1}+u^n}{h^2} - h u''' - \\frac{7 h^2}{12}u'''' + \n",
    "$$\n",
    "\n",
    "The error is first order as the first error term is $-h u'''$. \n",
    "\n",
    "Can we do better? Yes, of course, just add one more point to the finite difference stencil using Eq. (3). Now to eliminate both $u'$ and $u'''$ terms add the three equations as $-(3) + 4(2) - 5(1)$ (don't worry about how I know this yet)\n",
    "\n",
    "$$\n",
    "-(3)+4(2)-5(1): \\, -u^{n+3}+4u^{n+2}-5u^{n+1} = -2 u^n + h^2 u'' - \\frac{11 h^4}{12}u'''' +   \n",
    "$$\n",
    "\n",
    "which leads to the second order accurate\n",
    "\n",
    "$$\n",
    "u'' = \\frac{-u^{n+1} + 4u^{n+2} - 5u^{n+1} + 2u^n}{h^2} + \\frac{11 h^2}{12} u'''' +\n",
    "$$\n",
    "\n",
    "We can now modify our differentiation matrix $D^{(2)}$ using this one sided (forward) difference for row 0. For the last row, we can derive the same expression, only using points backward in time:\n",
    "\n",
    "$$\n",
    "D^{(2)} = \\frac{1}{h^2}\\begin{bmatrix}\n",
    "2 & -5 & 4 & -1  & 0 & 0 & 0 & 0  \\\\\n",
    "1 & -2 & 1 & 0 & 0 & 0 & 0 & \\cdots \\\\\n",
    "0 & 1 & -2 & 1 & 0 & 0 & 0 & \\cdots \\\\\n",
    "\\vdots & & & \\ddots &  & & &\\cdots \\\\\n",
    "\\vdots & 0 & 0 & 0 &  1& -2& 1& 0 \\\\\n",
    "\\vdots & 0 & 0& 0& 0& 1& -2& 1 \\\\\n",
    "0 & 0 & 0 & 0  & -1 & 4 & -5 & 2 \\\\\n",
    "\\end{bmatrix}\n",
    "$$\n",
    "\n",
    "Let us compute this matrix in Python"
   ]
  },
  {
   "cell_type": "code",
   "execution_count": 5,
   "id": "881042bf-2db6-4746-8314-d2ec87bee598",
   "metadata": {},
   "outputs": [
    {
     "data": {
      "text/plain": [
       "array([[-2.,  1.,  0.,  0.,  0.,  0.,  0.,  0.,  0.],\n",
       "       [ 1., -2.,  1.,  0.,  0.,  0.,  0.,  0.,  0.],\n",
       "       [ 0.,  1., -2.,  1.,  0.,  0.,  0.,  0.,  0.],\n",
       "       [ 0.,  0.,  1., -2.,  1.,  0.,  0.,  0.,  0.],\n",
       "       [ 0.,  0.,  0.,  1., -2.,  1.,  0.,  0.,  0.],\n",
       "       [ 0.,  0.,  0.,  0.,  1., -2.,  1.,  0.,  0.],\n",
       "       [ 0.,  0.,  0.,  0.,  0.,  1., -2.,  1.,  0.],\n",
       "       [ 0.,  0.,  0.,  0.,  0.,  0.,  1., -2.,  1.],\n",
       "       [ 0.,  0.,  0.,  0.,  0.,  0.,  0.,  1., -2.]])"
      ]
     },
     "execution_count": 5,
     "metadata": {},
     "output_type": "execute_result"
    }
   ],
   "source": [
    "D2 = sparse.diags([np.ones(N), np.full(N+1, -2), np.ones(N)], np.array([-1, 0, 1]), (N+1, N+1), 'lil')\n",
    "D2.toarray()"
   ]
  },
  {
   "cell_type": "markdown",
   "id": "4e067bd9-0628-4fdc-b315-f3c00ab69596",
   "metadata": {},
   "source": [
    "Fix the first and last rows"
   ]
  },
  {
   "cell_type": "code",
   "execution_count": 6,
   "id": "85949ba2-1ca6-4866-8a36-ea1d714a345e",
   "metadata": {},
   "outputs": [
    {
     "data": {
      "text/plain": [
       "array([[ 2., -5.,  4., -1.,  0.,  0.,  0.,  0.,  0.],\n",
       "       [ 1., -2.,  1.,  0.,  0.,  0.,  0.,  0.,  0.],\n",
       "       [ 0.,  1., -2.,  1.,  0.,  0.,  0.,  0.,  0.],\n",
       "       [ 0.,  0.,  1., -2.,  1.,  0.,  0.,  0.,  0.],\n",
       "       [ 0.,  0.,  0.,  1., -2.,  1.,  0.,  0.,  0.],\n",
       "       [ 0.,  0.,  0.,  0.,  1., -2.,  1.,  0.,  0.],\n",
       "       [ 0.,  0.,  0.,  0.,  0.,  1., -2.,  1.,  0.],\n",
       "       [ 0.,  0.,  0.,  0.,  0.,  0.,  1., -2.,  1.],\n",
       "       [ 0.,  0.,  0.,  0.,  0., -1.,  4., -5.,  2.]])"
      ]
     },
     "execution_count": 6,
     "metadata": {},
     "output_type": "execute_result"
    }
   ],
   "source": [
    "D2[0, :4] = 2, -5, 4, -1\n",
    "D2[-1, -4:] = -1, 4, -5, 2\n",
    "D2 *= (1/dt**2) # don't forget h\n",
    "D2.toarray()*dt**2"
   ]
  },
  {
   "cell_type": "markdown",
   "id": "67a25a73-7054-49ee-b1ec-7593bba2343b",
   "metadata": {},
   "source": [
    "If we apply $D^{(2)}$ to a vector (mesh function) $\\boldsymbol{f} = \\{f(t_n)\\}_{n=0}^{N}$, the we get the second derivative with second order accuracy. Let us try this first with $f=t^2$."
   ]
  },
  {
   "cell_type": "code",
   "execution_count": 7,
   "id": "1bb5c245-b029-44a7-8d02-36765a4fa350",
   "metadata": {},
   "outputs": [
    {
     "data": {
      "text/plain": [
       "array([ 0.  ,  0.25,  1.  ,  2.25,  4.  ,  6.25,  9.  , 12.25, 16.  ])"
      ]
     },
     "execution_count": 7,
     "metadata": {},
     "output_type": "execute_result"
    }
   ],
   "source": [
    "f = t**2\n",
    "f"
   ]
  },
  {
   "cell_type": "code",
   "execution_count": 8,
   "id": "80420d3d-dc98-47eb-9bd8-87a7bc6ce75f",
   "metadata": {},
   "outputs": [
    {
     "data": {
      "text/plain": [
       "array([2., 2., 2., 2., 2., 2., 2., 2., 2.])"
      ]
     },
     "execution_count": 8,
     "metadata": {},
     "output_type": "execute_result"
    }
   ],
   "source": [
    "d2f = D2 @ f\n",
    "d2f"
   ]
  },
  {
   "cell_type": "markdown",
   "id": "c299fc1d-f33a-4246-a04c-1f25003daa4c",
   "metadata": {},
   "source": [
    "Try the same, but with only first order accurate edges"
   ]
  },
  {
   "cell_type": "code",
   "execution_count": 9,
   "id": "da678d37-5811-4b8b-9627-cee5e2f79bc1",
   "metadata": {},
   "outputs": [
    {
     "data": {
      "text/plain": [
       "array([2., 2., 2., 2., 2., 2., 2., 2., 2.])"
      ]
     },
     "execution_count": 9,
     "metadata": {},
     "output_type": "execute_result"
    }
   ],
   "source": [
    "D2e = sparse.diags([np.ones(N), np.full(N+1, -2), np.ones(N)], np.array([-1, 0, 1]), (N+1, N+1), 'lil')\n",
    "D2e[0, :4] = 1, -2, 1, 0\n",
    "D2e[-1, -4:] = 0, 1, -2, 1\n",
    "D2e *= (1/dt**2)\n",
    "D2e @ f"
   ]
  },
  {
   "cell_type": "markdown",
   "id": "afbaf938-a5e6-44d4-a115-9b646770bb7e",
   "metadata": {},
   "source": [
    "What happened? Why is it still perfect?\n",
    "\n",
    "The reson is that the error in the stencil\n",
    "\n",
    "$$\n",
    "u'' = \\frac{u^{n+2}-2u^{n+1}+u^n}{h^2} - h u''' - \\frac{7 h^2}{12}u'''' + \n",
    "$$\n",
    "\n",
    "is proportional to $u'''$, which is 0. Hence we still get no error even though the order is only one. A more complex function would show the error better. Let us try $f=\\sin (\\pi t/T)$"
   ]
  },
  {
   "cell_type": "code",
   "execution_count": 10,
   "id": "fb15fda2-c984-43a4-8d30-bfae8186d50b",
   "metadata": {},
   "outputs": [
    {
     "data": {
      "text/plain": [
       "<matplotlib.legend.Legend at 0x11b82d4d0>"
      ]
     },
     "execution_count": 10,
     "metadata": {},
     "output_type": "execute_result"
    },
    {
     "data": {
      "image/png": "[encoded data removed]",
      "text/plain": [
       "<Figure size 640x480 with 1 Axes>"
      ]
     },
     "metadata": {},
     "output_type": "display_data"
    }
   ],
   "source": [
    "f = np.sin(np.pi*t / T)\n",
    "d2fe = -(np.pi/T)**2*f\n",
    "d2f = D2 @ f\n",
    "d2f1 = D2e @ f\n",
    "plt.plot(t, d2fe, 'k', t, d2f, 'b', t, d2f1, 'r')\n",
    "plt.legend(['Exact', '2nd order', '1st order'])"
   ]
  },
  {
   "cell_type": "markdown",
   "id": "5eb8e23d-7b0e-4299-8f7d-65b60f68eae9",
   "metadata": {},
   "source": [
    "# First derivative\n",
    "\n",
    "Let us create a similar matrix for a first order derivative. We use a central stencil for $n=1, 2, \\ldots N-1$ and skewed stencils for the first and last rows. Again, we need the following Taylor expansions for row 0\n",
    "\n",
    "\\begin{align}\n",
    "(-1)\\quad u^{n-1} &= u^n - h u' + \\frac{h^2}{2}u'' - \\frac{h^3}{6}u''' + \\frac{h^4}{24}u'''' + \\cdots \\\\\n",
    "(1)\\quad u^{n+1} &= u^n + h u' + \\frac{h^2}{2}u'' + \\frac{h^3}{6}u''' + \\frac{h^4}{24}u'''' + \\cdots \\\\\n",
    "(2)\\quad u^{n+2} &= u^n + 2h u' + \\frac{2 h^2}{1}u'' + \\frac{4 h^3}{3}u''' + \\frac{2 h^4}{3}u'''' + \\cdots \n",
    "\\end{align}\n",
    "\n",
    "(1) - (-1) leads to\n",
    "\n",
    "$$\n",
    "u'(t_n) = \\frac{u^{n+1}-u^{n-1}}{2 h} + \\frac{h^2}{6} u''' +\n",
    "$$\n",
    "\n",
    "We get a first order approximation for $u'$ using merely Eq. (1):\n",
    "\n",
    "$$\n",
    "u'(t_n) = \\frac{u^{n+1}-u^n}{h} - \\frac{h}{2}u'' - \n",
    "$$\n",
    "\n",
    "Adding one more equation (Eq. (2)) we get second order: (2)-4(1)\n",
    "\n",
    "$$\n",
    "u'(t_n) = \\frac{-u^{n+2}+4u^{n+1}-3u^n}{2h} + \\frac{h^2}{3}u''' +\n",
    "$$\n",
    "\n",
    "Hence a second order accurate first differentiation matrix is\n",
    "\n",
    "$$\n",
    "D^{(1)} = \\frac{1}{2 h}\\begin{bmatrix}\n",
    "-3 & 4 & -1 & 0  & 0 & 0 & 0 & 0  \\\\\n",
    "-1 & 0 & 1 & 0 & 0 & 0 & 0 & \\cdots \\\\\n",
    "0 & -1 & 0 & 1 & 0 & 0 & 0 & \\cdots \\\\\n",
    "\\vdots & & & \\ddots &  & & &\\cdots \\\\\n",
    "\\vdots & 0 & 0 & 0 &  -1& 0& 1& 0 \\\\\n",
    "\\vdots & 0 & 0& 0& 0& -1& 0& 1 \\\\\n",
    "0 & 0 & 0 & 0  & 0 & 1 & -4 & 3 \\\\\n",
    "\\end{bmatrix}\n",
    "$$\n"
   ]
  },
  {
   "cell_type": "code",
   "execution_count": 11,
   "id": "a2e539ba-31d6-495f-9dc9-96cedf75362e",
   "metadata": {},
   "outputs": [
    {
     "data": {
      "text/plain": [
       "array([[-3.,  4., -1.,  0.,  0.,  0.,  0.,  0.,  0.],\n",
       "       [-1.,  0.,  1.,  0.,  0.,  0.,  0.,  0.,  0.],\n",
       "       [ 0., -1.,  0.,  1.,  0.,  0.,  0.,  0.,  0.],\n",
       "       [ 0.,  0., -1.,  0.,  1.,  0.,  0.,  0.,  0.],\n",
       "       [ 0.,  0.,  0., -1.,  0.,  1.,  0.,  0.,  0.],\n",
       "       [ 0.,  0.,  0.,  0., -1.,  0.,  1.,  0.,  0.],\n",
       "       [ 0.,  0.,  0.,  0.,  0., -1.,  0.,  1.,  0.],\n",
       "       [ 0.,  0.,  0.,  0.,  0.,  0., -1.,  0.,  1.],\n",
       "       [ 0.,  0.,  0.,  0.,  0.,  0.,  1., -4.,  3.]])"
      ]
     },
     "execution_count": 11,
     "metadata": {},
     "output_type": "execute_result"
    }
   ],
   "source": [
    "D1 = sparse.diags([-np.ones(N), np.ones(N)], np.array([-1, 1]), (N+1, N+1), 'lil')\n",
    "D1[0, :3] = -3, 4, -1\n",
    "D1[-1, -3:] = 1, -4, 3\n",
    "D1 *= (1/(2*dt))\n",
    "D1.toarray()*(2*dt)"
   ]
  },
  {
   "cell_type": "code",
   "execution_count": 12,
   "id": "22276f4b-d0d4-44c6-80bd-4648df0184d5",
   "metadata": {},
   "outputs": [
    {
     "data": {
      "text/plain": [
       "array([1., 1., 1., 1., 1., 1., 1., 1., 1.])"
      ]
     },
     "execution_count": 12,
     "metadata": {},
     "output_type": "execute_result"
    }
   ],
   "source": [
    "f = t\n",
    "D1 @ f"
   ]
  },
  {
   "cell_type": "code",
   "execution_count": 13,
   "id": "7012430d-eec8-410d-9f73-b100586338ae",
   "metadata": {},
   "outputs": [
    {
     "data": {
      "text/plain": [
       "<matplotlib.legend.Legend at 0x11c5ca9d0>"
      ]
     },
     "execution_count": 13,
     "metadata": {},
     "output_type": "execute_result"
    },
    {
     "data": {
      "image/png": "[encoded data removed]",
      "text/plain": [
       "<Figure size 640x480 with 1 Axes>"
      ]
     },
     "metadata": {},
     "output_type": "display_data"
    }
   ],
   "source": [
    "f = np.sin(np.pi*t / T)\n",
    "d1fe = (np.pi/T)*np.cos(np.pi*t/T)\n",
    "d1f = D1 @ f\n",
    "plt.plot(t, d1fe, 'k', t, d1f, 'b')\n",
    "plt.legend(['Exact', '2nd order'])"
   ]
  },
  {
   "cell_type": "code",
   "execution_count": 14,
   "id": "d6e0f4eb-3a02-4218-a084-0546d458fcc5",
   "metadata": {},
   "outputs": [
    {
     "data": {
      "text/plain": [
       "array([[ 1.25, -2.75,  1.75, -0.25,  0.  ,  0.  ,  0.  ,  0.  ,  0.  ],\n",
       "       [ 0.75, -1.25,  0.25,  0.25,  0.  ,  0.  ,  0.  ,  0.  ,  0.  ],\n",
       "       [ 0.25,  0.  , -0.5 ,  0.  ,  0.25,  0.  ,  0.  ,  0.  ,  0.  ],\n",
       "       [ 0.  ,  0.25,  0.  , -0.5 ,  0.  ,  0.25,  0.  ,  0.  ,  0.  ],\n",
       "       [ 0.  ,  0.  ,  0.25,  0.  , -0.5 ,  0.  ,  0.25,  0.  ,  0.  ],\n",
       "       [ 0.  ,  0.  ,  0.  ,  0.25,  0.  , -0.5 ,  0.  ,  0.25,  0.  ],\n",
       "       [ 0.  ,  0.  ,  0.  ,  0.  ,  0.25,  0.  , -0.5 ,  0.  ,  0.25],\n",
       "       [ 0.  ,  0.  ,  0.  ,  0.  ,  0.  ,  0.25,  0.25, -1.25,  0.75],\n",
       "       [ 0.  ,  0.  ,  0.  ,  0.  ,  0.  , -0.25,  1.75, -2.75,  1.25]])"
      ]
     },
     "execution_count": 14,
     "metadata": {},
     "output_type": "execute_result"
    }
   ],
   "source": [
    "D2n = D1 @ D1\n",
    "D2n.toarray()*dt**2"
   ]
  },
  {
   "cell_type": "code",
   "execution_count": 15,
   "id": "65e0d600-f660-4bd3-b147-04ff79e7a920",
   "metadata": {},
   "outputs": [
    {
     "data": {
      "text/plain": [
       "(0.16216463185914665, 0.37045090252771984)"
      ]
     },
     "execution_count": 15,
     "metadata": {},
     "output_type": "execute_result"
    }
   ],
   "source": [
    "f = np.sin(np.pi*t / T)\n",
    "d2fe = -(np.pi/T)**2*f\n",
    "e2 = D2 @ f - d2fe\n",
    "en = D2n @ f - d2fe\n",
    "np.sqrt(dt*np.linalg.norm(e2)), np.sqrt(dt*np.linalg.norm(en))"
   ]
  },
  {
   "cell_type": "markdown",
   "id": "4f461890-feca-4fb2-a49c-39d37c0e15b9",
   "metadata": {},
   "source": [
    "It can be shown that the matrix that is D2n =$D^{(1)} D^{(1)}$ (matrix product of $D^{(1)}$ with itself) is only first order accurate."
   ]
  },
  {
   "cell_type": "markdown",
   "id": "df40c4d1-081a-4dde-91fe-9c1b1748f90d",
   "metadata": {},
   "source": [
    "# Solve equations using FD matrices\n",
    "\n",
    "The FD matrices are great because they depend only on $h$ and may be implemented once and reused. They only need to be modified in accordance with boundary conditions.\n",
    "\n",
    "Let's do the decay equation first and assemble the system\n",
    "\n",
    "$$\n",
    "A \\boldsymbol{u} = \\boldsymbol{b}\n",
    "$$\n",
    "\n",
    "for the equation\n",
    "\n",
    "$$\n",
    "u' + au = 0, u(0)=I, t \\in [0, T] \n",
    "$$\n",
    "\n",
    "Before boundary conditions we can assemble this as \n",
    "\n",
    "$$\n",
    "(D^{(1)} + a \\mathbb{I})\\boldsymbol{u} = \\boldsymbol{b}\n",
    "$$\n",
    "\n",
    "where $\\mathbb{I}$ is the identity matrix and the only non-zero item in $\\boldsymbol{b}$ is the boundary condition for $n=0$. This corresponds to\n",
    "\n",
    "$$\n",
    "\\frac{u^{n+1}-u^{n-1}}{2 h} + a u^n = 0\n",
    "$$\n"
   ]
  },
  {
   "cell_type": "code",
   "execution_count": 16,
   "id": "fffd0c2b-5c6f-4edb-b084-765ec2ee6f38",
   "metadata": {},
   "outputs": [
    {
     "data": {
      "text/plain": [
       "array([[ 1.,  0.,  0.,  0.,  0.,  0.,  0.,  0.,  0.],\n",
       "       [-1.,  2.,  1.,  0.,  0.,  0.,  0.,  0.,  0.],\n",
       "       [ 0., -1.,  2.,  1.,  0.,  0.,  0.,  0.,  0.],\n",
       "       [ 0.,  0., -1.,  2.,  1.,  0.,  0.,  0.,  0.],\n",
       "       [ 0.,  0.,  0., -1.,  2.,  1.,  0.,  0.,  0.],\n",
       "       [ 0.,  0.,  0.,  0., -1.,  2.,  1.,  0.,  0.],\n",
       "       [ 0.,  0.,  0.,  0.,  0., -1.,  2.,  1.,  0.],\n",
       "       [ 0.,  0.,  0.,  0.,  0.,  0., -1.,  2.,  1.],\n",
       "       [ 0.,  0.,  0.,  0.,  0.,  0.,  1., -4.,  5.]])"
      ]
     },
     "execution_count": 16,
     "metadata": {},
     "output_type": "execute_result"
    }
   ],
   "source": [
    "D1 = sparse.diags([-np.ones(N), np.ones(N)], np.array([-1, 1]), (N+1, N+1), 'lil')\n",
    "D1[0, :3] = -3, 4, -1\n",
    "D1[-1, -3:] = 1, -4, 3\n",
    "D1 *= (1/(2*dt))\n",
    "Id = sparse.eye(N+1)\n",
    "A = D1 + a*Id\n",
    "b = np.zeros(N+1)\n",
    "b[0] = I\n",
    "A[0, :3] = 1, 0, 0 # boundary condition\n",
    "A.toarray()"
   ]
  },
  {
   "cell_type": "code",
   "execution_count": 17,
   "id": "e77f5b20-0be9-44c5-abac-bc3435816a6d",
   "metadata": {},
   "outputs": [
    {
     "data": {
      "text/plain": [
       "[<matplotlib.lines.Line2D at 0x11c68d3d0>,\n",
       " <matplotlib.lines.Line2D at 0x11c6d7310>,\n",
       " <matplotlib.lines.Line2D at 0x11c6d4d50>]"
      ]
     },
     "execution_count": 17,
     "metadata": {},
     "output_type": "execute_result"
    },
    {
     "data": {
      "image/png": "[encoded data removed]",
      "text/plain": [
       "<Figure size 640x480 with 1 Axes>"
      ]
     },
     "metadata": {},
     "output_type": "display_data"
    }
   ],
   "source": [
    "u1 = sparse.linalg.spsolve(A, b)\n",
    "plt.plot(t, u1, 'r', t, u, 'b', t, np.exp(-a*t), 'k')"
   ]
  },
  {
   "cell_type": "markdown",
   "id": "ed94c451-33a0-488a-b7cf-85858eb281b9",
   "metadata": {},
   "source": [
    "The sceme is not fully implicit in the source term. However, it is using three neighbouring points for every equation, which is more stable than using merely two."
   ]
  },
  {
   "cell_type": "markdown",
   "id": "6cd48fd6-7322-41f1-a026-34c4926dd286",
   "metadata": {},
   "source": [
    "# Generic finite difference stencils\n",
    "\n",
    "It is possible to derive finite difference stencils of any order from the Taylor expansions around a point in both positive and negative directions. The generic Taylor expansion around $x=x_0$ reads\n",
    "\n",
    "$$\n",
    "u(x) = \\sum_{i=0}^{N} \\frac{(x-x_0)^i}{i!} u^{(i)}(x_0) + \\mathcal{O}(x^{N+1})\n",
    "$$\n",
    "\n",
    "where $u^{(i)}(x_0) = \\frac{d^{i}u}{dx^{i}}|_{x=x_0}$.\n",
    "\n",
    "With the finite difference method we only evaluate this expansion for certain points around $x_0$. That is, we use only $x=x_0+mh$, where $m$ is an integer and $h$ is a constant (time step or mesh size). We get\n",
    "\n",
    "$$\n",
    "u(x_0+mh) = \\sum_{i=0}^{N} \\frac{(mh)^i}{i!} u^{(i)}(x_0) + \\mathcal{O}(h^{N+1})\n",
    "$$\n",
    "\n",
    "where we usually use the finite difference notation $u^{n+m} = u(x_0+mh)$."
   ]
  },
  {
   "cell_type": "markdown",
   "id": "34b70bc8-bd9a-4423-a8a8-e15bcd819dde",
   "metadata": {},
   "source": [
    "We can set up a system of equations for $m=-2, -1, 0, 1, 2$\n",
    "\n",
    "\\begin{align}\n",
    "u^{n-2} &= \\sum_{i=0}^{N} \\frac{(-2h)^i}{i!} u^{(i)}(x_0) + \\mathcal{O}(h^{N+1}) \\\\\n",
    "u^{n-1} &= \\sum_{i=0}^{N} \\frac{(-h)^i}{i!} u^{(i)}(x_0) + \\mathcal{O}(h^{N+1}) \\\\\n",
    "u^{n} &= u^{n} \\\\\n",
    "u^{n+1} &= \\sum_{i=0}^{N} \\frac{(h)^i}{i!} u^{(i)}(x_0) + \\mathcal{O}(h^{N+1}) \\\\\n",
    "u^{n+2} &= \\sum_{i=0}^{N} \\frac{(2h)^i}{i!} u^{(i)}(x_0) + \\mathcal{O}(h^{N+1}) \\\\\n",
    "\\end{align}\n",
    "\n",
    "If we now simply remove all $\\mathcal{O}(h^{N+1})$ terms and use $N=4$, these equations can be written on matrix form as\n",
    "\n",
    "$$\n",
    "\\begin{bmatrix}\n",
    "u^{n-2}\\\\\n",
    "u^{n-1}\\\\\n",
    "u^{n}\\\\\n",
    "u^{n+1}\\\\\n",
    "u^{n+2}\\\\\n",
    "\\end{bmatrix}\n",
    "= \\begin{bmatrix}\n",
    "\\frac{(-2h)^0}{0!} & \\frac{(-2h)^1}{1!} & \\frac{(-2h)^2}{2!} & \\frac{(-2h)^3}{3!} & \\frac{(-2h)^4}{4!}  \\\\\n",
    "\\frac{(-h)^0}{0!} & \\frac{(-h)^1}{1!} & \\frac{(-h)^2}{2!} & \\frac{(-h)^3}{3!} & \\frac{(-h)^4}{4!} \\\\\n",
    "1 & 0 & 0 & 0 & 0 \\\\\n",
    "\\frac{(h)^0}{0!} & \\frac{(h)^1}{1!} & \\frac{(h)^2}{2!} & \\frac{(h)^3}{3!} & \\frac{(h)^4}{4!} \\\\\n",
    "\\frac{(2h)^0}{0!} & \\frac{(2h)^1}{1!} & \\frac{(2h)^2}{2!} & \\frac{(2h)^3}{3!} & \\frac{(2h)^4}{4!} \\\\\n",
    "\\end{bmatrix}\n",
    "\\begin{bmatrix}\n",
    "u^{(0)}(x_0) \\\\\n",
    "u^{(1)}(x_0) \\\\\n",
    "u^{(2)}(x_0) \\\\\n",
    "u^{(3)}(x_0) \\\\\n",
    "u^{(4)}(x_0)\n",
    "\\end{bmatrix}\n",
    "$$\n",
    "\n",
    "or more easily as\n",
    "\n",
    "$$\n",
    "\\boldsymbol{u} = C \\boldsymbol{u_x}\n",
    "$$\n",
    "\n",
    "where $\\boldsymbol{u_x} = \\{u^{(i)}(x_0)\\}_{i=0}^{N}$.\n",
    "\n",
    "Remember that the derivatives $u^{(i)}(x_0)$ are what we're normally interested in. For example, for a second order accurate scheme (with $m=-1, 0, 1$) we have\n",
    "\n",
    "$$\n",
    "u^{(2)}(x_0) = \\frac{u^{n+1}-2u^n+u^{n-1}}{h^2}\n",
    "$$\n",
    "\n",
    "By assembling the matrix $C$ we can compute any finite difference scheme!\n",
    "\n",
    "$$\n",
    "\\boldsymbol{u}_x = C^{-1} \\boldsymbol{u}\n",
    "$$\n",
    "\n",
    "Let's do this for $m=(-1, 0, 1)$ using $N=2$\n",
    "\n",
    "$$\n",
    "C = \\begin{bmatrix}\n",
    "1 & -h & \\frac{h^2}{2} \\\\\n",
    "1 & 0 & 0 \\\\\n",
    "1 & h & \\frac{h^2}{2}\n",
    "\\end{bmatrix}\n",
    "$$\n"
   ]
  },
  {
   "cell_type": "code",
   "execution_count": 18,
   "id": "c35e5690-f5bf-4a76-bb42-a597f0d19aed",
   "metadata": {},
   "outputs": [
    {
     "data": {
      "text/latex": [
       "$\\displaystyle \\left[\\begin{matrix}1 & - h & \\frac{h^{2}}{2}\\\\1 & 0 & 0\\\\1 & h & \\frac{h^{2}}{2}\\end{matrix}\\right]$"
      ],
      "text/plain": [
       "Matrix([\n",
       "[1, -h, h**2/2],\n",
       "[1,  0,      0],\n",
       "[1,  h, h**2/2]])"
      ]
     },
     "execution_count": 18,
     "metadata": {},
     "output_type": "execute_result"
    }
   ],
   "source": [
    "import sympy as sp\n",
    "x, h = sp.symbols('x,h')\n",
    "C = sp.Matrix([[1, -h, h**2/2], [1, 0, 0], [1, h, h**2/2]])\n",
    "C"
   ]
  },
  {
   "cell_type": "code",
   "execution_count": 19,
   "id": "94eec303-a5a5-4812-8124-db5f7764cbd1",
   "metadata": {},
   "outputs": [
    {
     "data": {
      "text/latex": [
       "$\\displaystyle \\left[\\begin{matrix}0 & 1 & 0\\\\- \\frac{1}{2 h} & 0 & \\frac{1}{2 h}\\\\\\frac{1}{h^{2}} & - \\frac{2}{h^{2}} & \\frac{1}{h^{2}}\\end{matrix}\\right]$"
      ],
      "text/plain": [
       "Matrix([\n",
       "[       0,       1,       0],\n",
       "[-1/(2*h),       0, 1/(2*h)],\n",
       "[ h**(-2), -2/h**2, h**(-2)]])"
      ]
     },
     "execution_count": 19,
     "metadata": {},
     "output_type": "execute_result"
    }
   ],
   "source": [
    "C.inv()"
   ]
  },
  {
   "cell_type": "markdown",
   "id": "b26279f6-c070-4c45-a465-2713256fef19",
   "metadata": {},
   "source": [
    "The second order central schemes are found in the last two rows. Row 1 is the first derivative, row 2 the second derivative."
   ]
  },
  {
   "cell_type": "code",
   "execution_count": 20,
   "id": "63c6fc1b-9713-47ef-b4ee-f049e37b324b",
   "metadata": {},
   "outputs": [
    {
     "data": {
      "text/latex": [
       "$\\displaystyle \\left[\\begin{matrix}- \\frac{2 f{\\left(x \\right)}}{h^{2}} + \\frac{f{\\left(- h + x \\right)}}{h^{2}} + \\frac{f{\\left(h + x \\right)}}{h^{2}}\\end{matrix}\\right]$"
      ],
      "text/plain": [
       "Matrix([[-2*f(x)/h**2 + f(-h + x)/h**2 + f(h + x)/h**2]])"
      ]
     },
     "execution_count": 20,
     "metadata": {},
     "output_type": "execute_result"
    }
   ],
   "source": [
    "f = sp.Function('f')\n",
    "coef = sp.Matrix([f(x-h), f(x), f(x+h)])\n",
    "(C.inv())[2, :] @ coef"
   ]
  },
  {
   "cell_type": "markdown",
   "id": "ff107240-c653-4cc3-b65f-a3adccb8b42a",
   "metadata": {},
   "source": [
    "We can get any finite difference scheme using all the points that we like. For example, to create a forward difference of the second derivative using inly $u^n, u^{n+1}$ and $u^{n+2}$ we can use\n",
    "\n",
    "$$\n",
    "C = \\begin{bmatrix}\n",
    "1 & 0 & 0 \\\\\n",
    "1 & h & \\frac{h^2}{2} \\\\\n",
    "1 & 2h & {2 h^2}\n",
    "\\end{bmatrix}\n",
    "$$\n"
   ]
  },
  {
   "cell_type": "code",
   "execution_count": 22,
   "id": "e4f8245f-8295-434a-bb2d-a120f7e52e01",
   "metadata": {},
   "outputs": [
    {
     "data": {
      "text/latex": [
       "$\\displaystyle \\left[\\begin{matrix}\\frac{f{\\left(x \\right)}}{h^{2}} - \\frac{2 f{\\left(h + x \\right)}}{h^{2}} + \\frac{f{\\left(2 h + x \\right)}}{h^{2}}\\end{matrix}\\right]$"
      ],
      "text/plain": [
       "Matrix([[f(x)/h**2 - 2*f(h + x)/h**2 + f(2*h + x)/h**2]])"
      ]
     },
     "execution_count": 22,
     "metadata": {},
     "output_type": "execute_result"
    }
   ],
   "source": [
    "C = sp.Matrix([[1, 0, 0], [1, h, h**2/2], [1, 2*h, 2*h**2]])\n",
    "coef = sp.Matrix([f(x), f(x+h), f(x+2*h)])\n",
    "(C.inv())[2, :] @ coef"
   ]
  },
  {
   "cell_type": "markdown",
   "id": "f35bb58d-9202-4442-9507-98eb719d9bf0",
   "metadata": {},
   "source": [
    "However, this scheme will only be first order accurate, because it is not central. A second order scheme needs to use one more point"
   ]
  },
  {
   "cell_type": "code",
   "execution_count": 76,
   "id": "05e0e78c-2d11-40fa-872c-bb7b3d436250",
   "metadata": {},
   "outputs": [],
   "source": [
    "x0=sp.Symbol('x0')\n",
    "fm1 = f(x0-h).series(h, 0)\n",
    "f0 = f(x0).series()\n",
    "fp1 = f(x0+h).series(h, 0)"
   ]
  },
  {
   "cell_type": "code",
   "execution_count": 77,
   "id": "953dd038-de4e-498d-aafe-3f08b7d2443d",
   "metadata": {},
   "outputs": [
    {
     "data": {
      "text/latex": [
       "$\\displaystyle 2 h \\left. \\frac{d}{d \\xi_{1}} f{\\left(\\xi_{1} \\right)} \\right|_{\\substack{ \\xi_{1}=x_{0} }} + \\frac{h^{3} \\left. \\frac{d^{3}}{d \\xi_{1}^{3}} f{\\left(\\xi_{1} \\right)} \\right|_{\\substack{ \\xi_{1}=x_{0} }}}{3} + \\frac{h^{5} \\left. \\frac{d^{5}}{d \\xi_{1}^{5}} f{\\left(\\xi_{1} \\right)} \\right|_{\\substack{ \\xi_{1}=x_{0} }}}{60} + O\\left(h^{6}\\right)$"
      ],
      "text/plain": [
       "2*h*Subs(Derivative(f(_xi_1), _xi_1), _xi_1, x0) + h**3*Subs(Derivative(f(_xi_1), (_xi_1, 3)), _xi_1, x0)/3 + h**5*Subs(Derivative(f(_xi_1), (_xi_1, 5)), _xi_1, x0)/60 + O(h**6)"
      ]
     },
     "execution_count": 77,
     "metadata": {},
     "output_type": "execute_result"
    }
   ],
   "source": [
    "(fp1-2*fm1)"
   ]
  },
  {
   "cell_type": "code",
   "execution_count": 23,
   "id": "f4fba90d-5c24-4ded-a782-df1b0d3df098",
   "metadata": {},
   "outputs": [
    {
     "data": {
      "text/latex": [
       "$\\displaystyle \\left[\\begin{matrix}\\frac{13 f{\\left(x \\right)}}{9 h^{2}} - \\frac{10 f{\\left(h + x \\right)}}{3 h^{2}} + \\frac{7 f{\\left(2 h + x \\right)}}{3 h^{2}} - \\frac{4 f{\\left(3 h + x \\right)}}{9 h^{2}}\\end{matrix}\\right]$"
      ],
      "text/plain": [
       "Matrix([[13*f(x)/(9*h**2) - 10*f(h + x)/(3*h**2) + 7*f(2*h + x)/(3*h**2) - 4*f(3*h + x)/(9*h**2)]])"
      ]
     },
     "execution_count": 23,
     "metadata": {},
     "output_type": "execute_result"
    }
   ],
   "source": [
    "C = sp.Matrix([[1, 0, 0, 0], [1, h, h**2/2, h**3/3], [1, 2*h, 2*h**2, 4*h**3/3], [1, 3*h, 9*h**2/2, 27*h**3/6]])\n",
    "coef = sp.Matrix([f(x), f(x+h), f(x+2*h), f(x+3*h)])\n",
    "(C.inv())[2, :] @ coef"
   ]
  }
 ],
 "metadata": {
  "kernelspec": {
   "display_name": "matmek4270",
   "language": "python",
   "name": "matmek4270"
  },
  "language_info": {
   "codemirror_mode": {
    "name": "ipython",
    "version": 3
   },
   "file_extension": ".py",
   "mimetype": "text/x-python",
   "name": "python",
   "nbconvert_exporter": "python",
   "pygments_lexer": "ipython3",
   "version": "3.11.4"
  }
 },
 "nbformat": 4,
 "nbformat_minor": 5
}
